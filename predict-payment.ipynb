{
 "cells": [
  {
   "cell_type": "markdown",
   "metadata": {},
   "source": [
    "# Contexto do Problema"
   ]
  },
  {
   "cell_type": "markdown",
   "metadata": {},
   "source": [
    "A **Olist** é uma startup brasileira que atua no segmento de e-commerce, sobretudo por meio de marketplace.\n",
    "\n",
    "De um lado, a olist concentra vendedores que desejam anunciar em marketplaces como Mercado Livre, B2W, Via Varejo e Amazon. Do outro lado, concentra os produtos de todos os vendedores em uma loja única que fica visível ao consumidor final."
   ]
  },
  {
   "cell_type": "markdown",
   "metadata": {},
   "source": [
    "# Problema"
   ]
  },
  {
   "cell_type": "markdown",
   "metadata": {},
   "source": [
    "A diretoria da empresa viu que grande parte dos clientes acabavam justificando que não finalizaram a compra por não possuir dinheiro no momento e não possuir cartão de crédito para parcelar.\n",
    "\n",
    "A empresa decidiu criar um cartão de crédito próprio para oferecer aos seus clientes, com o objetivo de alavancar as vendas, impedindo que os clientes deixem de comprar por não possuir um cartão.\n",
    "\n",
    "Em primeiro momento, a estratégia é identificar, em sua base, quem são os clientes que costumam pagar com cartão de crédito de bancos e que não possuem cartão para enviar um email marketing oferencendo 15% de desconto em compras usando o novo cartão da Olist.\n",
    "\n",
    "**O principal ponto é identificar quem são os clientes que receberão os emails**."
   ]
  },
  {
   "cell_type": "markdown",
   "metadata": {},
   "source": [
    "# 0.0 IMPORTS"
   ]
  },
  {
   "cell_type": "code",
   "execution_count": 8,
   "metadata": {
    "execution": {
     "iopub.execute_input": "2022-11-19T15:49:19.495907Z",
     "iopub.status.busy": "2022-11-19T15:49:19.494982Z",
     "iopub.status.idle": "2022-11-19T15:49:19.604824Z",
     "shell.execute_reply": "2022-11-19T15:49:19.603455Z",
     "shell.execute_reply.started": "2022-11-19T15:49:19.495696Z"
    }
   },
   "outputs": [],
   "source": [
    "# manipulação de dados e calculos\n",
    "import pandas as pd\n",
    "import numpy as np\n",
    "\n",
    "# visualização de dados\n",
    "import seaborn as sns\n",
    "import matplotlib.pyplot as plt\n",
    "\n",
    "# processamento\n",
    "from sklearn.preprocessing import StandardScaler, MinMaxScaler\n",
    "from sklearn.model_selection import train_test_split\n",
    "\n",
    "# validacao\n",
    "import sklearn.metrics as metrics\n",
    "from sklearn import metrics\n",
    "from sklearn.metrics import accuracy_score, precision_score, recall_score\n",
    "from sklearn.metrics import confusion_matrix\n",
    "\n",
    "# modelos\n",
    "from sklearn.neighbors import KNeighborsClassifier\n",
    "from sklearn.linear_model import LogisticRegression\n",
    "from sklearn.tree import DecisionTreeClassifier\n",
    "from sklearn.ensemble import RandomForestClassifier\n",
    "from sklearn.naive_bayes import GaussianNB\n",
    "\n",
    "import xgboost as xgb\n",
    "from lightgbm import LGBMClassifier\n",
    "from sklearn.ensemble import ExtraTreesClassifier\n",
    "\n",
    "# config warnings\n",
    "import warnings\n",
    "warnings.filterwarnings('ignore')"
   ]
  },
  {
   "cell_type": "markdown",
   "metadata": {},
   "source": [
    "## 0.1 Funções Auxilares"
   ]
  },
  {
   "cell_type": "code",
   "execution_count": 9,
   "metadata": {},
   "outputs": [],
   "source": [
    "# função para validação\n",
    "def plot_metric(y_true, yhat, model_name):\n",
    "    \n",
    "    matrix = confusion_matrix(y_true, yhat)\n",
    "    palette = ['#67b79e', '#fda664']\n",
    "\n",
    "    # show metric\n",
    "    plt.figure(figsize=(15, 5))\n",
    "    plt.subplot(1, 3, 1)\n",
    "    sns.heatmap(matrix, annot=True, cmap='Greens')\n",
    "    plt.title('Confusion Matrix')\n",
    "\n",
    "    # figure with real data\n",
    "    plt.subplot(1, 3, 2)\n",
    "    sns.barplot(x=y_true['payment_type'].value_counts().index, y=y_true['payment_type'].value_counts().values, palette=palette, ec='k')\n",
    "    plt.title('Forma de Pagamento - (REAL)')\n",
    "    plt.xlabel('Pagamento - 1 = Crédito | 0 = Outros')\n",
    "    sns.despine(right=True)\n",
    "\n",
    "    # figure with prediction\n",
    "    plt.subplot(1, 3, 3)\n",
    "    pred = pd.Series(yhat).value_counts()\n",
    "    sns.barplot(x=pred.index, y=pred.values, palette=palette, ec='k')\n",
    "    plt.title('Forma de Pagamento - (Predição)')\n",
    "    plt.xlabel('Pagamento - 1 = Crédito | 0 = Outros')\n",
    "    sns.despine(right=True)\n",
    "    plt.suptitle(model_name);\n",
    "    \n",
    "    \n",
    "\n",
    "# Função para calcular metricas\n",
    "def compute_metrics(yhat, y_validation, model_name):\n",
    "    \n",
    "    metric = pd.DataFrame(\n",
    "        {'Model_name': model_name,\n",
    "         'Accuracy': accuracy_score(y_validation, yhat),\n",
    "         'Precision': precision_score(y_validation, yhat),\n",
    "         'Recall': recall_score(y_validation, yhat)\n",
    "        }, index=[0])\n",
    "    \n",
    "    return metric"
   ]
  },
  {
   "cell_type": "markdown",
   "metadata": {},
   "source": [
    "## 0.2 Carregamento de Dados"
   ]
  },
  {
   "cell_type": "markdown",
   "metadata": {},
   "source": [
    "Ao todo, usaremos 8 tabelas/arquivos que foi tirada de um banco de dados. Cada tabela se relaciona através de um Id."
   ]
  },
  {
   "cell_type": "code",
   "execution_count": 10,
   "metadata": {
    "execution": {
     "iopub.execute_input": "2022-11-19T15:49:19.939890Z",
     "iopub.status.busy": "2022-11-19T15:49:19.939360Z",
     "iopub.status.idle": "2022-11-19T15:49:24.244679Z",
     "shell.execute_reply": "2022-11-19T15:49:24.243098Z",
     "shell.execute_reply.started": "2022-11-19T15:49:19.939849Z"
    }
   },
   "outputs": [],
   "source": [
    "# arquivos/tabelas usadas\n",
    "tb_customer    = pd.read_csv('data/olist_customers_dataset.csv') \n",
    "tb_geolacation = pd.read_csv('data/olist_geolocation_dataset.csv').rename(columns={'geolocation_zip_code_prefix': 'zip_code_prefix'}) \n",
    "tb_items       = pd.read_csv('data/olist_order_items_dataset.csv')\n",
    "tb_payment     = pd.read_csv('data/olist_order_payments_dataset.csv') \n",
    "tb_order       = pd.read_csv('data/olist_orders_dataset.csv', ) \n",
    "tb_product     = pd.read_csv('data/olist_products_dataset.csv')\n",
    "tb_seller      = pd.read_csv('data/olist_sellers_dataset.csv').rename(columns={'seller_zip_code_prefix': 'zip_code_prefix'})"
   ]
  },
  {
   "cell_type": "markdown",
   "metadata": {},
   "source": [
    "Para ajuntar as informações dos relacionamentos das tabelas/arquivos, vamos fazer um merge dos ID´s."
   ]
  },
  {
   "cell_type": "code",
   "execution_count": 11,
   "metadata": {
    "execution": {
     "iopub.execute_input": "2022-11-19T15:49:24.247425Z",
     "iopub.status.busy": "2022-11-19T15:49:24.246956Z",
     "iopub.status.idle": "2022-11-19T15:49:41.627144Z",
     "shell.execute_reply": "2022-11-19T15:49:41.625987Z",
     "shell.execute_reply.started": "2022-11-19T15:49:24.247383Z"
    }
   },
   "outputs": [],
   "source": [
    "# ajuntando através dos relacionamentos\n",
    "df1  = pd.merge(tb_payment, tb_order, on='order_id', how='left')\n",
    "df2  = pd.merge(df1, tb_customer, on='customer_id', how='left')\n",
    "df3  = pd.merge(df2, tb_items, on='order_id', how='left')\n",
    "df4  = pd.merge(df3, tb_product, on='product_id', how='left')\n",
    "df5  = pd.merge(df4, tb_seller, on='seller_id', how='left')\n",
    "data = pd.merge(df5, tb_geolacation, on='zip_code_prefix', how='left')"
   ]
  },
  {
   "cell_type": "markdown",
   "metadata": {},
   "source": [
    "Na tabela de pagamentos, há uma variavel (**payment_type**) com as informações históricas sobre a forma de pagamento que o cliente usou. Entre as opções, há se ele pegou com cartão de crédito, boleto, voucher, débito, entre outros.\n",
    "\n",
    "Para prevermos se o cliente irá pagar com crédito ou não, transformaremos a variavel para binaria. Exemplo: se pagamento == 'cartao de credito' tranforma em 1. Se não, transforma em 0."
   ]
  },
  {
   "cell_type": "code",
   "execution_count": 12,
   "metadata": {
    "execution": {
     "iopub.execute_input": "2022-11-19T15:49:41.629320Z",
     "iopub.status.busy": "2022-11-19T15:49:41.628942Z",
     "iopub.status.idle": "2022-11-19T15:49:42.978539Z",
     "shell.execute_reply": "2022-11-19T15:49:42.977283Z",
     "shell.execute_reply.started": "2022-11-19T15:49:41.629285Z"
    }
   },
   "outputs": [],
   "source": [
    "# criando variavel target -> if pagamento = credito: 1, else: 0\n",
    "PAGAMENTO_CREDITO = 1\n",
    "OUTROS_PAGAMENTOS = 0\n",
    "\n",
    "# atualizando a colunas com os novos valores\n",
    "data['payment_type'] = np.where(\n",
    "    data['payment_type']=='credit_card',\n",
    "    PAGAMENTO_CREDITO, OUTROS_PAGAMENTOS\n",
    ")"
   ]
  },
  {
   "cell_type": "markdown",
   "metadata": {},
   "source": [
    "O conjunto de dados completo possui mais de 16 Milhões de linhas, ao rodar estava dando erro de memoria, sendo impossóvel de executar as céluas de códigos. Portanto, diminuiremos o dataset para 5 Milhões de linhas."
   ]
  },
  {
   "cell_type": "code",
   "execution_count": 13,
   "metadata": {},
   "outputs": [],
   "source": [
    "quantidade_linha_nova = 5000000 \n",
    "data = data.sample(quantidade_linha_nova, random_state=42).copy()"
   ]
  },
  {
   "cell_type": "markdown",
   "metadata": {},
   "source": [
    "# 1.0 DESCRIÇÃO DE DADOS"
   ]
  },
  {
   "cell_type": "markdown",
   "metadata": {},
   "source": [
    "## 1.1 Dimensão de Dados"
   ]
  },
  {
   "cell_type": "code",
   "execution_count": 14,
   "metadata": {
    "execution": {
     "iopub.execute_input": "2022-11-19T15:49:42.981578Z",
     "iopub.status.busy": "2022-11-19T15:49:42.981081Z",
     "iopub.status.idle": "2022-11-19T15:49:42.989518Z",
     "shell.execute_reply": "2022-11-19T15:49:42.988437Z",
     "shell.execute_reply.started": "2022-11-19T15:49:42.981539Z"
    }
   },
   "outputs": [
    {
     "name": "stdout",
     "output_type": "stream",
     "text": [
      "Qty. columns: 37\n",
      "Qty. rows: 5000000\n"
     ]
    }
   ],
   "source": [
    "qty_rows    = data.shape[0]  # quantidade de linhas\n",
    "qty_columns = data.shape[1]  # quantidade de colunas\n",
    "\n",
    "# mostrando quantidade de linhas e colunas\n",
    "print('Qty. columns:', qty_columns)\n",
    "print('Qty. rows:', qty_rows)"
   ]
  },
  {
   "cell_type": "markdown",
   "metadata": {},
   "source": [
    "## 1.2 Tipo de Dados"
   ]
  },
  {
   "cell_type": "code",
   "execution_count": 15,
   "metadata": {
    "execution": {
     "iopub.execute_input": "2022-11-19T15:49:42.991970Z",
     "iopub.status.busy": "2022-11-19T15:49:42.990820Z",
     "iopub.status.idle": "2022-11-19T15:49:43.011648Z",
     "shell.execute_reply": "2022-11-19T15:49:43.010329Z",
     "shell.execute_reply.started": "2022-11-19T15:49:42.991928Z"
    }
   },
   "outputs": [
    {
     "data": {
      "text/plain": [
       "order_id                          object\n",
       "payment_sequential                 int64\n",
       "payment_type                       int32\n",
       "payment_installments               int64\n",
       "payment_value                    float64\n",
       "customer_id                       object\n",
       "order_status                      object\n",
       "order_purchase_timestamp          object\n",
       "order_approved_at                 object\n",
       "order_delivered_carrier_date      object\n",
       "order_delivered_customer_date     object\n",
       "order_estimated_delivery_date     object\n",
       "customer_unique_id                object\n",
       "customer_zip_code_prefix           int64\n",
       "customer_city                     object\n",
       "customer_state                    object\n",
       "order_item_id                    float64\n",
       "product_id                        object\n",
       "seller_id                         object\n",
       "shipping_limit_date               object\n",
       "price                            float64\n",
       "freight_value                    float64\n",
       "product_category_name             object\n",
       "product_name_lenght              float64\n",
       "product_description_lenght       float64\n",
       "product_photos_qty               float64\n",
       "product_weight_g                 float64\n",
       "product_length_cm                float64\n",
       "product_height_cm                float64\n",
       "product_width_cm                 float64\n",
       "zip_code_prefix                  float64\n",
       "seller_city                       object\n",
       "seller_state                      object\n",
       "geolocation_lat                  float64\n",
       "geolocation_lng                  float64\n",
       "geolocation_city                  object\n",
       "geolocation_state                 object\n",
       "dtype: object"
      ]
     },
     "execution_count": 15,
     "metadata": {},
     "output_type": "execute_result"
    }
   ],
   "source": [
    "# verificando tipo das variaveis\n",
    "data.dtypes"
   ]
  },
  {
   "cell_type": "markdown",
   "metadata": {},
   "source": [
    "## 1.3 Dados Ausentes/Nulos"
   ]
  },
  {
   "cell_type": "code",
   "execution_count": 16,
   "metadata": {
    "execution": {
     "iopub.execute_input": "2022-11-19T15:49:43.015223Z",
     "iopub.status.busy": "2022-11-19T15:49:43.014014Z",
     "iopub.status.idle": "2022-11-19T15:49:57.904499Z",
     "shell.execute_reply": "2022-11-19T15:49:57.903174Z",
     "shell.execute_reply.started": "2022-11-19T15:49:43.015154Z"
    }
   },
   "outputs": [
    {
     "data": {
      "text/plain": [
       "order_id                              0\n",
       "payment_sequential                    0\n",
       "payment_type                          0\n",
       "payment_installments                  0\n",
       "payment_value                         0\n",
       "customer_id                           0\n",
       "order_status                          0\n",
       "order_purchase_timestamp              0\n",
       "order_approved_at                   662\n",
       "order_delivered_carrier_date      52975\n",
       "order_delivered_customer_date    108003\n",
       "order_estimated_delivery_date         0\n",
       "customer_unique_id                    0\n",
       "customer_zip_code_prefix              0\n",
       "customer_city                         0\n",
       "customer_state                        0\n",
       "order_item_id                       239\n",
       "product_id                          239\n",
       "seller_id                           239\n",
       "shipping_limit_date                 239\n",
       "price                               239\n",
       "freight_value                       239\n",
       "product_category_name             70044\n",
       "product_name_lenght               70044\n",
       "product_description_lenght        70044\n",
       "product_photos_qty                70044\n",
       "product_weight_g                   1122\n",
       "product_length_cm                  1122\n",
       "product_height_cm                  1122\n",
       "product_width_cm                   1122\n",
       "zip_code_prefix                     239\n",
       "seller_city                         239\n",
       "seller_state                        239\n",
       "geolocation_lat                     316\n",
       "geolocation_lng                     316\n",
       "geolocation_city                    316\n",
       "geolocation_state                   316\n",
       "dtype: int64"
      ]
     },
     "execution_count": 16,
     "metadata": {},
     "output_type": "execute_result"
    }
   ],
   "source": [
    "data.isna().sum()"
   ]
  },
  {
   "cell_type": "markdown",
   "metadata": {},
   "source": [
    "## 1.4 Tratamento de Dados Nulos"
   ]
  },
  {
   "cell_type": "markdown",
   "metadata": {},
   "source": [
    "Como o dataset possui uma grande quantidade de registros (16 milhões), excluir os valores ausentes não fará tanto falto devido a pequena proporção que representa do conjunto de dados."
   ]
  },
  {
   "cell_type": "code",
   "execution_count": 17,
   "metadata": {
    "execution": {
     "iopub.execute_input": "2022-11-19T15:49:57.906497Z",
     "iopub.status.busy": "2022-11-19T15:49:57.906109Z",
     "iopub.status.idle": "2022-11-19T15:50:59.281660Z",
     "shell.execute_reply": "2022-11-19T15:50:59.280351Z",
     "shell.execute_reply.started": "2022-11-19T15:49:57.906459Z"
    }
   },
   "outputs": [
    {
     "data": {
      "text/plain": [
       "order_id                         0\n",
       "payment_sequential               0\n",
       "payment_type                     0\n",
       "payment_installments             0\n",
       "payment_value                    0\n",
       "customer_id                      0\n",
       "order_status                     0\n",
       "order_purchase_timestamp         0\n",
       "order_approved_at                0\n",
       "order_delivered_carrier_date     0\n",
       "order_delivered_customer_date    0\n",
       "order_estimated_delivery_date    0\n",
       "customer_unique_id               0\n",
       "customer_zip_code_prefix         0\n",
       "customer_city                    0\n",
       "customer_state                   0\n",
       "order_item_id                    0\n",
       "product_id                       0\n",
       "seller_id                        0\n",
       "shipping_limit_date              0\n",
       "price                            0\n",
       "freight_value                    0\n",
       "product_category_name            0\n",
       "product_name_lenght              0\n",
       "product_description_lenght       0\n",
       "product_photos_qty               0\n",
       "product_weight_g                 0\n",
       "product_length_cm                0\n",
       "product_height_cm                0\n",
       "product_width_cm                 0\n",
       "zip_code_prefix                  0\n",
       "seller_city                      0\n",
       "seller_state                     0\n",
       "geolocation_lat                  0\n",
       "geolocation_lng                  0\n",
       "geolocation_city                 0\n",
       "geolocation_state                0\n",
       "dtype: int64"
      ]
     },
     "execution_count": 17,
     "metadata": {},
     "output_type": "execute_result"
    }
   ],
   "source": [
    "# excluindo valores ausentes/nulos\n",
    "data.dropna(inplace=True)\n",
    "\n",
    "# verificando nova quantidade de valores ausentes/nulos\n",
    "data.isna().sum()"
   ]
  },
  {
   "cell_type": "markdown",
   "metadata": {},
   "source": [
    "## 1.5 Estatistica Descritiva"
   ]
  },
  {
   "cell_type": "code",
   "execution_count": 49,
   "metadata": {},
   "outputs": [
    {
     "data": {
      "text/html": [
       "<div>\n",
       "<style scoped>\n",
       "    .dataframe tbody tr th:only-of-type {\n",
       "        vertical-align: middle;\n",
       "    }\n",
       "\n",
       "    .dataframe tbody tr th {\n",
       "        vertical-align: top;\n",
       "    }\n",
       "\n",
       "    .dataframe thead th {\n",
       "        text-align: right;\n",
       "    }\n",
       "</style>\n",
       "<table border=\"1\" class=\"dataframe\">\n",
       "  <thead>\n",
       "    <tr style=\"text-align: right;\">\n",
       "      <th></th>\n",
       "      <th>payment_sequential</th>\n",
       "      <th>payment_value</th>\n",
       "      <th>price</th>\n",
       "      <th>freight_value</th>\n",
       "      <th>product_height_cm</th>\n",
       "      <th>product_width_cm</th>\n",
       "    </tr>\n",
       "  </thead>\n",
       "  <tbody>\n",
       "    <tr>\n",
       "      <th>count</th>\n",
       "      <td>4.823599e+06</td>\n",
       "      <td>4.823599e+06</td>\n",
       "      <td>4.823599e+06</td>\n",
       "      <td>4.823599e+06</td>\n",
       "      <td>4.823599e+06</td>\n",
       "      <td>4.823599e+06</td>\n",
       "    </tr>\n",
       "    <tr>\n",
       "      <th>mean</th>\n",
       "      <td>1.088918e+00</td>\n",
       "      <td>1.696308e+02</td>\n",
       "      <td>1.177577e+02</td>\n",
       "      <td>1.988549e+01</td>\n",
       "      <td>1.655434e+01</td>\n",
       "      <td>2.354624e+01</td>\n",
       "    </tr>\n",
       "    <tr>\n",
       "      <th>std</th>\n",
       "      <td>6.801227e-01</td>\n",
       "      <td>2.338691e+02</td>\n",
       "      <td>1.723076e+02</td>\n",
       "      <td>1.497960e+01</td>\n",
       "      <td>1.329552e+01</td>\n",
       "      <td>1.146667e+01</td>\n",
       "    </tr>\n",
       "    <tr>\n",
       "      <th>min</th>\n",
       "      <td>1.000000e+00</td>\n",
       "      <td>0.000000e+00</td>\n",
       "      <td>8.500000e-01</td>\n",
       "      <td>0.000000e+00</td>\n",
       "      <td>2.000000e+00</td>\n",
       "      <td>6.000000e+00</td>\n",
       "    </tr>\n",
       "    <tr>\n",
       "      <th>25%</th>\n",
       "      <td>1.000000e+00</td>\n",
       "      <td>6.211000e+01</td>\n",
       "      <td>4.000000e+01</td>\n",
       "      <td>1.337000e+01</td>\n",
       "      <td>9.000000e+00</td>\n",
       "      <td>1.500000e+01</td>\n",
       "    </tr>\n",
       "    <tr>\n",
       "      <th>50%</th>\n",
       "      <td>1.000000e+00</td>\n",
       "      <td>1.080000e+02</td>\n",
       "      <td>7.480000e+01</td>\n",
       "      <td>1.632000e+01</td>\n",
       "      <td>1.300000e+01</td>\n",
       "      <td>2.000000e+01</td>\n",
       "    </tr>\n",
       "    <tr>\n",
       "      <th>75%</th>\n",
       "      <td>1.000000e+00</td>\n",
       "      <td>1.890600e+02</td>\n",
       "      <td>1.299900e+02</td>\n",
       "      <td>2.099000e+01</td>\n",
       "      <td>2.000000e+01</td>\n",
       "      <td>3.000000e+01</td>\n",
       "    </tr>\n",
       "    <tr>\n",
       "      <th>max</th>\n",
       "      <td>2.600000e+01</td>\n",
       "      <td>1.366408e+04</td>\n",
       "      <td>6.735000e+03</td>\n",
       "      <td>4.096800e+02</td>\n",
       "      <td>1.050000e+02</td>\n",
       "      <td>1.180000e+02</td>\n",
       "    </tr>\n",
       "  </tbody>\n",
       "</table>\n",
       "</div>"
      ],
      "text/plain": [
       "       payment_sequential  payment_value         price  freight_value  \\\n",
       "count        4.823599e+06   4.823599e+06  4.823599e+06   4.823599e+06   \n",
       "mean         1.088918e+00   1.696308e+02  1.177577e+02   1.988549e+01   \n",
       "std          6.801227e-01   2.338691e+02  1.723076e+02   1.497960e+01   \n",
       "min          1.000000e+00   0.000000e+00  8.500000e-01   0.000000e+00   \n",
       "25%          1.000000e+00   6.211000e+01  4.000000e+01   1.337000e+01   \n",
       "50%          1.000000e+00   1.080000e+02  7.480000e+01   1.632000e+01   \n",
       "75%          1.000000e+00   1.890600e+02  1.299900e+02   2.099000e+01   \n",
       "max          2.600000e+01   1.366408e+04  6.735000e+03   4.096800e+02   \n",
       "\n",
       "       product_height_cm  product_width_cm  \n",
       "count       4.823599e+06      4.823599e+06  \n",
       "mean        1.655434e+01      2.354624e+01  \n",
       "std         1.329552e+01      1.146667e+01  \n",
       "min         2.000000e+00      6.000000e+00  \n",
       "25%         9.000000e+00      1.500000e+01  \n",
       "50%         1.300000e+01      2.000000e+01  \n",
       "75%         2.000000e+01      3.000000e+01  \n",
       "max         1.050000e+02      1.180000e+02  "
      ]
     },
     "execution_count": 49,
     "metadata": {},
     "output_type": "execute_result"
    }
   ],
   "source": [
    "data[['payment_sequential', 'payment_value', 'price', 'freight_value',\n",
    "       'product_height_cm', 'product_width_cm', 'seller_state',\n",
    "       'product_category_name']].describe()"
   ]
  },
  {
   "cell_type": "markdown",
   "metadata": {},
   "source": [
    "## 1.6 Variaveis"
   ]
  },
  {
   "cell_type": "markdown",
   "metadata": {},
   "source": [
    "### 1.6.1 Variavel Target"
   ]
  },
  {
   "cell_type": "code",
   "execution_count": 56,
   "metadata": {},
   "outputs": [
    {
     "data": {
      "image/png": "[encoded data removed]",
      "text/plain": [
       "<Figure size 1080x360 with 1 Axes>"
      ]
     },
     "metadata": {
      "needs_background": "light"
     },
     "output_type": "display_data"
    }
   ],
   "source": [
    "plt.figure(figsize=(15, 5))\n",
    "sns.countplot(x='payment_type', data=data, palette=['#67b79e', '#fda664'], ec='k')\n",
    "sns.despine(right=True)\n",
    "plt.title('Quantidade de pedidos feitos por forma de pagamento')\n",
    "plt.ylabel('Forma de pagamento')\n",
    "plt.ylabel('Quantidade');"
   ]
  },
  {
   "cell_type": "markdown",
   "metadata": {},
   "source": [
    "### 1.6.2 Variaveis Numéricas"
   ]
  },
  {
   "cell_type": "code",
   "execution_count": 68,
   "metadata": {},
   "outputs": [
    {
     "data": {
      "image/png": "[encoded data removed]",
      "text/plain": [
       "<Figure size 1080x720 with 6 Axes>"
      ]
     },
     "metadata": {
      "needs_background": "light"
     },
     "output_type": "display_data"
    }
   ],
   "source": [
    "data2 = data[['payment_sequential', 'payment_value', 'price', 'freight_value',\n",
    "              'product_height_cm', 'product_width_cm', 'seller_state',\n",
    "              'product_category_name']].copy()\n",
    "\n",
    "data2.hist(figsize=(15, 10), ec='k', color='#67b79e', bins=25, grid=False)\n",
    "sns.despine(right=True)\n",
    "plt.title('Distribuição das Variaveis Numéricas');"
   ]
  },
  {
   "cell_type": "markdown",
   "metadata": {},
   "source": [
    "# 2.0 DIVISÃO DE DADOS\n"
   ]
  },
  {
   "cell_type": "code",
   "execution_count": null,
   "metadata": {},
   "outputs": [],
   "source": []
  },
  {
   "cell_type": "code",
   "execution_count": 18,
   "metadata": {
    "execution": {
     "iopub.execute_input": "2022-11-19T15:51:59.063776Z",
     "iopub.status.busy": "2022-11-19T15:51:59.063259Z",
     "iopub.status.idle": "2022-11-19T15:52:14.696464Z",
     "shell.execute_reply": "2022-11-19T15:52:14.695018Z",
     "shell.execute_reply.started": "2022-11-19T15:51:59.063720Z"
    }
   },
   "outputs": [],
   "source": [
    "# separando as variaveis\n",
    "x = data.drop(columns=['payment_type']) # variaveis independentes\n",
    "y = data[['payment_type']] # variavel dependente (target)\n",
    "\n",
    "# dividindo os dados entre treino e teste (20% teste, 80% treinamento)\n",
    "x_train, x_test, y_train, y_test = train_test_split(x, y, test_size=0.2, random_state=43)\n",
    "\n",
    "# copiando dados para usar no final\n",
    "x_test2 = x_test.copy()"
   ]
  },
  {
   "cell_type": "markdown",
   "metadata": {},
   "source": [
    "# 3.0 PREPARAÇÃO DE DADOS\n",
    "\n",
    "Etapa para realizar o pré-processamento das variaveis para treinar o algotritmo"
   ]
  },
  {
   "cell_type": "markdown",
   "metadata": {},
   "source": [
    "## 3.1 Dados de Treino"
   ]
  },
  {
   "cell_type": "markdown",
   "metadata": {},
   "source": [
    "### 3.1.1 Exclusão de Colunas"
   ]
  },
  {
   "cell_type": "markdown",
   "metadata": {},
   "source": [
    "Excluindo colunas que não são tão relevantes para o aprendizado do modelo e aquelas que dava dica para o modelo acertar."
   ]
  },
  {
   "cell_type": "code",
   "execution_count": 19,
   "metadata": {},
   "outputs": [],
   "source": [
    "# colunas para excluir\n",
    "columns = [\"order_id\", \"customer_id\", 'customer_unique_id','order_item_id', 'product_id', 'seller_id',\n",
    "           \"order_status\",\"seller_city\",\"geolocation_city\", \"geolocation_state\", 'customer_city', 'customer_state',\n",
    "           'order_purchase_timestamp',\"order_approved_at\", \"order_delivered_carrier_date\", \"order_delivered_customer_date\",\n",
    "           \"order_estimated_delivery_date\",\"order_estimated_delivery_date\",\"order_estimated_delivery_date\", \"shipping_limit_date\",\n",
    "           \"customer_zip_code_prefix\",\"zip_code_prefix\", \"payment_installments\", \"geolocation_lat\", \"geolocation_lng\",\n",
    "           'product_length_cm', 'product_weight_g', 'product_photos_qty', 'product_description_lenght',\n",
    "           'product_name_lenght']\n",
    "\n",
    "# excluindo colunas com muuitos valores unicos\n",
    "x_train.drop(columns=columns, inplace=True)"
   ]
  },
  {
   "cell_type": "markdown",
   "metadata": {},
   "source": [
    "### 3.1.2 Reescalonamento\n",
    "\n",
    "Etapa para transformar colunas/variaveis numéricas para a mesma escala nos dados de Treino."
   ]
  },
  {
   "cell_type": "code",
   "execution_count": 20,
   "metadata": {},
   "outputs": [],
   "source": [
    "# definindo StardarScaler\n",
    "payment_value     = MinMaxScaler()\n",
    "price             = MinMaxScaler()\n",
    "freight_value     = MinMaxScaler()\n",
    "product_height_cm = MinMaxScaler()\n",
    "product_width_cm  = MinMaxScaler()\n",
    "\n",
    "# payment_value\n",
    "x_train['payment_value'] = payment_value.fit_transform(x_train[['payment_value']].values)\n",
    "\n",
    "# price\n",
    "x_train['price'] = price.fit_transform(x_train[['price']].values)\n",
    "\n",
    "# freight_value\n",
    "x_train['freight_value'] = freight_value.fit_transform(x_train[['freight_value']].values)\n",
    "\n",
    "# product_height_cm\n",
    "x_train['product_height_cm'] = product_height_cm.fit_transform(x_train[['product_height_cm']].values)\n",
    "\n",
    "# product_width_cm\n",
    "x_train['product_width_cm'] = product_width_cm.fit_transform(x_train[['product_width_cm']].values)"
   ]
  },
  {
   "cell_type": "markdown",
   "metadata": {},
   "source": [
    "### 3.1.3 Encoding\n",
    "\n",
    "Etapa para transformar variaveis caregoricas em 0 e 1 nos dados de Treino."
   ]
  },
  {
   "cell_type": "code",
   "execution_count": 21,
   "metadata": {},
   "outputs": [],
   "source": [
    "# Tranformando o Salle_states(SP = 0, RJ = 1)\n",
    "x_train[\"seller_state\"] = np.where(x_train[\"seller_state\"] == \"SP\", 0,1)\n",
    "\n",
    "# criando colunas de 0 e 1 para cada valor de product_category_name\n",
    "x_train = pd.get_dummies(x_train, prefix='product_category_name', columns=['product_category_name'])"
   ]
  },
  {
   "cell_type": "markdown",
   "metadata": {},
   "source": [
    "## 3.2 Dados de Teste"
   ]
  },
  {
   "cell_type": "markdown",
   "metadata": {},
   "source": [
    "### 3.2.1 Exclusão de Colunas"
   ]
  },
  {
   "cell_type": "markdown",
   "metadata": {},
   "source": [
    "Excluindo colunas que não são tão relevantes para o aprendizado do modelo e aquelas que dava dica para o modelo acertar."
   ]
  },
  {
   "cell_type": "code",
   "execution_count": 22,
   "metadata": {
    "execution": {
     "iopub.execute_input": "2022-11-19T15:50:59.283648Z",
     "iopub.status.busy": "2022-11-19T15:50:59.283257Z",
     "iopub.status.idle": "2022-11-19T15:51:02.016725Z",
     "shell.execute_reply": "2022-11-19T15:51:02.015235Z",
     "shell.execute_reply.started": "2022-11-19T15:50:59.283613Z"
    }
   },
   "outputs": [],
   "source": [
    "# colunas para excluir\n",
    "columns = [\"order_id\", \"customer_id\", 'customer_unique_id','order_item_id', 'product_id', 'seller_id',\n",
    "           \"order_status\",\"seller_city\",\"geolocation_city\", \"geolocation_state\", 'customer_city', 'customer_state',\n",
    "           'order_purchase_timestamp',\"order_approved_at\", \"order_delivered_carrier_date\", \"order_delivered_customer_date\",\n",
    "           \"order_estimated_delivery_date\",\"order_estimated_delivery_date\",\"order_estimated_delivery_date\", \"shipping_limit_date\",\n",
    "           \"customer_zip_code_prefix\",\"zip_code_prefix\", \"payment_installments\", \"geolocation_lat\", \"geolocation_lng\",\n",
    "           'product_length_cm', 'product_weight_g', 'product_photos_qty', 'product_description_lenght',\n",
    "           'product_name_lenght']\n",
    "\n",
    "# excluindo colunas com muuitos valores unicos\n",
    "x_test.drop(columns=columns, inplace=True)"
   ]
  },
  {
   "cell_type": "markdown",
   "metadata": {},
   "source": [
    "### 3.2.2 Reescalonamento\n",
    "\n",
    "Etapa para transformar colunas/variaveis numéricas para a mesma escala nos dados de Teste."
   ]
  },
  {
   "cell_type": "code",
   "execution_count": 23,
   "metadata": {},
   "outputs": [],
   "source": [
    "# definindo StardarScaler\n",
    "payment_value2     = MinMaxScaler()\n",
    "price2             = MinMaxScaler()\n",
    "freight_value2     = MinMaxScaler()\n",
    "product_height_cm2 = MinMaxScaler()\n",
    "product_width_cm2  = MinMaxScaler()\n",
    "\n",
    "# payment_value\n",
    "x_test['payment_value'] = payment_value2.fit_transform(x_test[['payment_value']].values)\n",
    "\n",
    "# price\n",
    "x_test['price'] = price2.fit_transform(x_test[['price']].values)\n",
    "\n",
    "# freight_value\n",
    "x_test['freight_value'] = freight_value2.fit_transform(x_test[['freight_value']].values)\n",
    "\n",
    "# product_height_cm\n",
    "x_test['product_height_cm'] = product_height_cm2.fit_transform(x_test[['product_height_cm']].values)\n",
    "\n",
    "# product_width_cm\n",
    "x_test['product_width_cm'] = product_width_cm2.fit_transform(x_test[['product_width_cm']].values)\n"
   ]
  },
  {
   "cell_type": "markdown",
   "metadata": {},
   "source": [
    "### 3.2.3 Encoding\n",
    "\n",
    "Etapa para transformar variaveis caregoricas em 0 e 1 nos dados de Teste."
   ]
  },
  {
   "cell_type": "code",
   "execution_count": 24,
   "metadata": {
    "execution": {
     "iopub.execute_input": "2022-11-19T15:51:49.865273Z",
     "iopub.status.busy": "2022-11-19T15:51:49.864704Z",
     "iopub.status.idle": "2022-11-19T15:51:51.437659Z",
     "shell.execute_reply": "2022-11-19T15:51:51.436197Z",
     "shell.execute_reply.started": "2022-11-19T15:51:49.865218Z"
    }
   },
   "outputs": [],
   "source": [
    "# Tranformando o Salle_states(SP = 0, RJ = 1)\n",
    "x_test[\"seller_state\"] = np.where(x_test[\"seller_state\"] == \"SP\", 0, 1)\n",
    "\n",
    "# criando colunas de 0 e 1 para cada valor de product_category_name\n",
    "x_test = pd.get_dummies(x_test, prefix='product_category_name', columns=['product_category_name'])"
   ]
  },
  {
   "cell_type": "markdown",
   "metadata": {},
   "source": [
    "# 4.0 MODELAGEM MACHINE LEARNING"
   ]
  },
  {
   "cell_type": "markdown",
   "metadata": {},
   "source": [
    "Etapa para realizar o treinamento dos algoritmos/modelos para prever a forma de pagamento."
   ]
  },
  {
   "cell_type": "markdown",
   "metadata": {},
   "source": [
    "## 4.1 Arvore de Decisão"
   ]
  },
  {
   "cell_type": "code",
   "execution_count": 25,
   "metadata": {
    "execution": {
     "iopub.execute_input": "2022-11-19T15:52:24.339866Z",
     "iopub.status.busy": "2022-11-19T15:52:24.339351Z",
     "iopub.status.idle": "2022-11-19T15:52:38.718948Z",
     "shell.execute_reply": "2022-11-19T15:52:38.717004Z",
     "shell.execute_reply.started": "2022-11-19T15:52:24.339822Z"
    }
   },
   "outputs": [],
   "source": [
    "# definindo arvore com 11 folhas\n",
    "tree = DecisionTreeClassifier(max_depth=15)\n",
    "\n",
    "# treinando a arvore com os dados de treino\n",
    "tree_treinada = tree.fit(x_train, y_train)\n",
    "\n",
    "# usando a arvore treinada para prever nos dados de teste\n",
    "tree_predicao = tree_treinada.predict(x_test)"
   ]
  },
  {
   "cell_type": "markdown",
   "metadata": {},
   "source": [
    "## 4.2 Regressão Logistica"
   ]
  },
  {
   "cell_type": "code",
   "execution_count": 26,
   "metadata": {},
   "outputs": [],
   "source": [
    " # definindo a regressão logistica\n",
    "lr = LogisticRegression()\n",
    "\n",
    "# treinando a regressão logistica com os dados de treino\n",
    "lr_treinado = lr.fit(x_train, y_train)\n",
    "\n",
    "# usando a regressão logistica para prever nos dados de teste\n",
    "predicao_lr = lr_treinado.predict(x_test)"
   ]
  },
  {
   "cell_type": "markdown",
   "metadata": {},
   "source": [
    "## 4.3 Random Forest"
   ]
  },
  {
   "cell_type": "code",
   "execution_count": 27,
   "metadata": {},
   "outputs": [],
   "source": [
    "# definindo a Random Forest\n",
    "rf = RandomForestClassifier(max_depth=15)\n",
    "\n",
    "# treinando a Random Forest com os dados de treino\n",
    "rf_treinado = rf.fit(x_train, y_train)\n",
    "\n",
    "# usando a Random Forest para prever nos dados de teste\n",
    "predicao_rf = rf_treinado.predict(x_test)"
   ]
  },
  {
   "cell_type": "markdown",
   "metadata": {},
   "source": [
    "## 4.4 Naive Bayes"
   ]
  },
  {
   "cell_type": "code",
   "execution_count": 28,
   "metadata": {},
   "outputs": [],
   "source": [
    " # definindo o Naive Bayes\n",
    "bayes = GaussianNB()\n",
    "\n",
    "# treinando o Naive Bayes com os dados de treino\n",
    "bayes_treinado = bayes.fit(x_train, y_train)\n",
    "\n",
    "# usando o Naive Bayes para prever nos dados de teste\n",
    "predicao_bayes = bayes_treinado.predict(x_test)"
   ]
  },
  {
   "cell_type": "markdown",
   "metadata": {},
   "source": [
    "## 4.5 XGBoost"
   ]
  },
  {
   "cell_type": "code",
   "execution_count": 29,
   "metadata": {},
   "outputs": [],
   "source": [
    " # definindo o XGBoost\n",
    "xgb = xgb.XGBClassifier(max_depth=9)\n",
    "\n",
    "# treinando o XGBoost com os dados de treino\n",
    "xgb_treinado = xgb.fit(x_train, y_train)\n",
    "\n",
    "# usando o XGBoost para prever nos dados de teste\n",
    "predicao_xgb = xgb_treinado.predict(x_test)"
   ]
  },
  {
   "cell_type": "markdown",
   "metadata": {},
   "source": [
    "## 4.6 LGBM"
   ]
  },
  {
   "cell_type": "code",
   "execution_count": 30,
   "metadata": {},
   "outputs": [],
   "source": [
    " # definindo o lgbm\n",
    "lgbm = LGBMClassifier(max_depth=9)\n",
    "\n",
    "# treinando o lgbm com os dados de treino\n",
    "lgbm_treinado = lgbm.fit(x_train, y_train)\n",
    "\n",
    "# usando o lgbm para prever nos dados de teste\n",
    "predicao_lgbm = lgbm_treinado.predict(x_test)"
   ]
  },
  {
   "cell_type": "markdown",
   "metadata": {},
   "source": [
    "# 5.0 VALIDAÇÃO"
   ]
  },
  {
   "cell_type": "markdown",
   "metadata": {},
   "source": [
    "Etapa para validar a performance dos modelos/algoritmos."
   ]
  },
  {
   "cell_type": "markdown",
   "metadata": {},
   "source": [
    "## 5.1 Arvore de Decisão"
   ]
  },
  {
   "cell_type": "code",
   "execution_count": 31,
   "metadata": {},
   "outputs": [
    {
     "data": {
      "text/html": [
       "<div>\n",
       "<style scoped>\n",
       "    .dataframe tbody tr th:only-of-type {\n",
       "        vertical-align: middle;\n",
       "    }\n",
       "\n",
       "    .dataframe tbody tr th {\n",
       "        vertical-align: top;\n",
       "    }\n",
       "\n",
       "    .dataframe thead th {\n",
       "        text-align: right;\n",
       "    }\n",
       "</style>\n",
       "<table border=\"1\" class=\"dataframe\">\n",
       "  <thead>\n",
       "    <tr style=\"text-align: right;\">\n",
       "      <th></th>\n",
       "      <th>Model_name</th>\n",
       "      <th>Accuracy</th>\n",
       "      <th>Precision</th>\n",
       "      <th>Recall</th>\n",
       "    </tr>\n",
       "  </thead>\n",
       "  <tbody>\n",
       "    <tr>\n",
       "      <th>0</th>\n",
       "      <td>Arvore de Decisão</td>\n",
       "      <td>0.796719</td>\n",
       "      <td>0.787087</td>\n",
       "      <td>0.994216</td>\n",
       "    </tr>\n",
       "  </tbody>\n",
       "</table>\n",
       "</div>"
      ],
      "text/plain": [
       "          Model_name  Accuracy  Precision    Recall\n",
       "0  Arvore de Decisão  0.796719   0.787087  0.994216"
      ]
     },
     "execution_count": 31,
     "metadata": {},
     "output_type": "execute_result"
    },
    {
     "data": {
      "image/png": "[encoded data removed]",
      "text/plain": [
       "<Figure size 1080x360 with 4 Axes>"
      ]
     },
     "metadata": {
      "needs_background": "light"
     },
     "output_type": "display_data"
    }
   ],
   "source": [
    "# Arvore de Decisao\n",
    "metrics_tree = compute_metrics(model_name='Arvore de Decisão', y_validation=y_test, yhat=tree_predicao) # calcula metricas\n",
    "plot_metric(y_test, tree_predicao, 'Arvore de Decisão') # graficos\n",
    "metrics_tree # mostra metricas"
   ]
  },
  {
   "cell_type": "markdown",
   "metadata": {},
   "source": [
    "## 5.2 Regressão Logistica"
   ]
  },
  {
   "cell_type": "code",
   "execution_count": 32,
   "metadata": {},
   "outputs": [
    {
     "data": {
      "text/html": [
       "<div>\n",
       "<style scoped>\n",
       "    .dataframe tbody tr th:only-of-type {\n",
       "        vertical-align: middle;\n",
       "    }\n",
       "\n",
       "    .dataframe tbody tr th {\n",
       "        vertical-align: top;\n",
       "    }\n",
       "\n",
       "    .dataframe thead th {\n",
       "        text-align: right;\n",
       "    }\n",
       "</style>\n",
       "<table border=\"1\" class=\"dataframe\">\n",
       "  <thead>\n",
       "    <tr style=\"text-align: right;\">\n",
       "      <th></th>\n",
       "      <th>Model_name</th>\n",
       "      <th>Accuracy</th>\n",
       "      <th>Precision</th>\n",
       "      <th>Recall</th>\n",
       "    </tr>\n",
       "  </thead>\n",
       "  <tbody>\n",
       "    <tr>\n",
       "      <th>0</th>\n",
       "      <td>Regressão Logistica</td>\n",
       "      <td>0.777575</td>\n",
       "      <td>0.770687</td>\n",
       "      <td>0.995647</td>\n",
       "    </tr>\n",
       "  </tbody>\n",
       "</table>\n",
       "</div>"
      ],
      "text/plain": [
       "            Model_name  Accuracy  Precision    Recall\n",
       "0  Regressão Logistica  0.777575   0.770687  0.995647"
      ]
     },
     "execution_count": 32,
     "metadata": {},
     "output_type": "execute_result"
    },
    {
     "data": {
      "image/png": "[encoded data removed]",
      "text/plain": [
       "<Figure size 1080x360 with 4 Axes>"
      ]
     },
     "metadata": {
      "needs_background": "light"
     },
     "output_type": "display_data"
    }
   ],
   "source": [
    "# Regressão Logistica\n",
    "metrics_lr = compute_metrics(model_name='Regressão Logistica', y_validation=y_test, yhat=predicao_lr) # calcula metricas\n",
    "plot_metric(y_test, predicao_lr, 'Regressão Logistica') # graficos\n",
    "metrics_lr # mostra metricas"
   ]
  },
  {
   "cell_type": "markdown",
   "metadata": {},
   "source": [
    "## 5.3 Random Forest"
   ]
  },
  {
   "cell_type": "code",
   "execution_count": 33,
   "metadata": {},
   "outputs": [
    {
     "data": {
      "text/html": [
       "<div>\n",
       "<style scoped>\n",
       "    .dataframe tbody tr th:only-of-type {\n",
       "        vertical-align: middle;\n",
       "    }\n",
       "\n",
       "    .dataframe tbody tr th {\n",
       "        vertical-align: top;\n",
       "    }\n",
       "\n",
       "    .dataframe thead th {\n",
       "        text-align: right;\n",
       "    }\n",
       "</style>\n",
       "<table border=\"1\" class=\"dataframe\">\n",
       "  <thead>\n",
       "    <tr style=\"text-align: right;\">\n",
       "      <th></th>\n",
       "      <th>Model_name</th>\n",
       "      <th>Accuracy</th>\n",
       "      <th>Precision</th>\n",
       "      <th>Recall</th>\n",
       "    </tr>\n",
       "  </thead>\n",
       "  <tbody>\n",
       "    <tr>\n",
       "      <th>0</th>\n",
       "      <td>Random Forest</td>\n",
       "      <td>0.786</td>\n",
       "      <td>0.776747</td>\n",
       "      <td>0.997484</td>\n",
       "    </tr>\n",
       "  </tbody>\n",
       "</table>\n",
       "</div>"
      ],
      "text/plain": [
       "      Model_name  Accuracy  Precision    Recall\n",
       "0  Random Forest     0.786   0.776747  0.997484"
      ]
     },
     "execution_count": 33,
     "metadata": {},
     "output_type": "execute_result"
    },
    {
     "data": {
      "image/png": "[encoded data removed]",
      "text/plain": [
       "<Figure size 1080x360 with 4 Axes>"
      ]
     },
     "metadata": {
      "needs_background": "light"
     },
     "output_type": "display_data"
    }
   ],
   "source": [
    "# Random Forest\n",
    "metrics_rf = compute_metrics(model_name='Random Forest', y_validation=y_test, yhat=predicao_rf) # calcula metricas\n",
    "plot_metric(y_test, predicao_rf, 'Random Forest') # graficos\n",
    "metrics_rf # mostra metricas"
   ]
  },
  {
   "cell_type": "markdown",
   "metadata": {},
   "source": [
    "## 5.4 Naive Bayes"
   ]
  },
  {
   "cell_type": "code",
   "execution_count": 34,
   "metadata": {},
   "outputs": [
    {
     "data": {
      "text/html": [
       "<div>\n",
       "<style scoped>\n",
       "    .dataframe tbody tr th:only-of-type {\n",
       "        vertical-align: middle;\n",
       "    }\n",
       "\n",
       "    .dataframe tbody tr th {\n",
       "        vertical-align: top;\n",
       "    }\n",
       "\n",
       "    .dataframe thead th {\n",
       "        text-align: right;\n",
       "    }\n",
       "</style>\n",
       "<table border=\"1\" class=\"dataframe\">\n",
       "  <thead>\n",
       "    <tr style=\"text-align: right;\">\n",
       "      <th></th>\n",
       "      <th>Model_name</th>\n",
       "      <th>Accuracy</th>\n",
       "      <th>Precision</th>\n",
       "      <th>Recall</th>\n",
       "    </tr>\n",
       "  </thead>\n",
       "  <tbody>\n",
       "    <tr>\n",
       "      <th>0</th>\n",
       "      <td>Naive Bayes</td>\n",
       "      <td>0.755897</td>\n",
       "      <td>0.772999</td>\n",
       "      <td>0.948701</td>\n",
       "    </tr>\n",
       "  </tbody>\n",
       "</table>\n",
       "</div>"
      ],
      "text/plain": [
       "    Model_name  Accuracy  Precision    Recall\n",
       "0  Naive Bayes  0.755897   0.772999  0.948701"
      ]
     },
     "execution_count": 34,
     "metadata": {},
     "output_type": "execute_result"
    },
    {
     "data": {
      "image/png": "[encoded data removed]",
      "text/plain": [
       "<Figure size 1080x360 with 4 Axes>"
      ]
     },
     "metadata": {
      "needs_background": "light"
     },
     "output_type": "display_data"
    }
   ],
   "source": [
    "# Naive Bayes\n",
    "metrics_bayes = compute_metrics(model_name='Naive Bayes', y_validation=y_test, yhat=predicao_bayes) # calcula metricas\n",
    "plot_metric(y_test, predicao_bayes, 'Naive Bayes') # graficos\n",
    "metrics_bayes # mostra metricas"
   ]
  },
  {
   "cell_type": "markdown",
   "metadata": {},
   "source": [
    "## 5.5 XGBoost"
   ]
  },
  {
   "cell_type": "code",
   "execution_count": 35,
   "metadata": {},
   "outputs": [
    {
     "data": {
      "text/html": [
       "<div>\n",
       "<style scoped>\n",
       "    .dataframe tbody tr th:only-of-type {\n",
       "        vertical-align: middle;\n",
       "    }\n",
       "\n",
       "    .dataframe tbody tr th {\n",
       "        vertical-align: top;\n",
       "    }\n",
       "\n",
       "    .dataframe thead th {\n",
       "        text-align: right;\n",
       "    }\n",
       "</style>\n",
       "<table border=\"1\" class=\"dataframe\">\n",
       "  <thead>\n",
       "    <tr style=\"text-align: right;\">\n",
       "      <th></th>\n",
       "      <th>Model_name</th>\n",
       "      <th>Accuracy</th>\n",
       "      <th>Precision</th>\n",
       "      <th>Recall</th>\n",
       "    </tr>\n",
       "  </thead>\n",
       "  <tbody>\n",
       "    <tr>\n",
       "      <th>0</th>\n",
       "      <td>XGBoost</td>\n",
       "      <td>0.846388</td>\n",
       "      <td>0.829261</td>\n",
       "      <td>0.997848</td>\n",
       "    </tr>\n",
       "  </tbody>\n",
       "</table>\n",
       "</div>"
      ],
      "text/plain": [
       "  Model_name  Accuracy  Precision    Recall\n",
       "0    XGBoost  0.846388   0.829261  0.997848"
      ]
     },
     "execution_count": 35,
     "metadata": {},
     "output_type": "execute_result"
    },
    {
     "data": {
      "image/png": "[encoded data removed]",
      "text/plain": [
       "<Figure size 1080x360 with 4 Axes>"
      ]
     },
     "metadata": {
      "needs_background": "light"
     },
     "output_type": "display_data"
    }
   ],
   "source": [
    "# XGBoost\n",
    "metrics_xgboost = compute_metrics(model_name='XGBoost', y_validation=y_test, yhat=predicao_xgb) # calcula metricas\n",
    "plot_metric(y_test, predicao_xgb, 'XGBoost') # graficos\n",
    "metrics_xgboost # mostra metricas"
   ]
  },
  {
   "cell_type": "markdown",
   "metadata": {},
   "source": [
    "## 5.6 LGBM"
   ]
  },
  {
   "cell_type": "code",
   "execution_count": 36,
   "metadata": {},
   "outputs": [
    {
     "data": {
      "text/html": [
       "<div>\n",
       "<style scoped>\n",
       "    .dataframe tbody tr th:only-of-type {\n",
       "        vertical-align: middle;\n",
       "    }\n",
       "\n",
       "    .dataframe tbody tr th {\n",
       "        vertical-align: top;\n",
       "    }\n",
       "\n",
       "    .dataframe thead th {\n",
       "        text-align: right;\n",
       "    }\n",
       "</style>\n",
       "<table border=\"1\" class=\"dataframe\">\n",
       "  <thead>\n",
       "    <tr style=\"text-align: right;\">\n",
       "      <th></th>\n",
       "      <th>Model_name</th>\n",
       "      <th>Accuracy</th>\n",
       "      <th>Precision</th>\n",
       "      <th>Recall</th>\n",
       "    </tr>\n",
       "  </thead>\n",
       "  <tbody>\n",
       "    <tr>\n",
       "      <th>0</th>\n",
       "      <td>LGBM</td>\n",
       "      <td>0.785499</td>\n",
       "      <td>0.777135</td>\n",
       "      <td>0.995635</td>\n",
       "    </tr>\n",
       "  </tbody>\n",
       "</table>\n",
       "</div>"
      ],
      "text/plain": [
       "  Model_name  Accuracy  Precision    Recall\n",
       "0       LGBM  0.785499   0.777135  0.995635"
      ]
     },
     "execution_count": 36,
     "metadata": {},
     "output_type": "execute_result"
    },
    {
     "data": {
      "image/png": "[encoded data removed]",
      "text/plain": [
       "<Figure size 1080x360 with 4 Axes>"
      ]
     },
     "metadata": {
      "needs_background": "light"
     },
     "output_type": "display_data"
    }
   ],
   "source": [
    "# LGBM\n",
    "metrics_lgbm = compute_metrics(model_name='LGBM', y_validation=y_test, yhat=predicao_lgbm) # calcula metricas\n",
    "plot_metric(y_test, predicao_lgbm, 'LGBM') # graficos\n",
    "metrics_lgbm # mostra metricas"
   ]
  },
  {
   "cell_type": "markdown",
   "metadata": {},
   "source": [
    "# 6.0 COMITÊ DE CLASSIFICADOR"
   ]
  },
  {
   "cell_type": "markdown",
   "metadata": {},
   "source": [
    "## 6.1 Ajuntando Predições"
   ]
  },
  {
   "cell_type": "markdown",
   "metadata": {},
   "source": [
    "Ajuntando as predições dos 3 melhores modeos:\n",
    "\n",
    "- Arvore de Decisão\n",
    "- XGBoost\n",
    "- Random Forest"
   ]
  },
  {
   "cell_type": "code",
   "execution_count": 37,
   "metadata": {},
   "outputs": [
    {
     "data": {
      "text/html": [
       "<div>\n",
       "<style scoped>\n",
       "    .dataframe tbody tr th:only-of-type {\n",
       "        vertical-align: middle;\n",
       "    }\n",
       "\n",
       "    .dataframe tbody tr th {\n",
       "        vertical-align: top;\n",
       "    }\n",
       "\n",
       "    .dataframe thead th {\n",
       "        text-align: right;\n",
       "    }\n",
       "</style>\n",
       "<table border=\"1\" class=\"dataframe\">\n",
       "  <thead>\n",
       "    <tr style=\"text-align: right;\">\n",
       "      <th></th>\n",
       "      <th>arvore_decisao</th>\n",
       "      <th>xgboost</th>\n",
       "      <th>random_forest</th>\n",
       "    </tr>\n",
       "  </thead>\n",
       "  <tbody>\n",
       "    <tr>\n",
       "      <th>0</th>\n",
       "      <td>1</td>\n",
       "      <td>1</td>\n",
       "      <td>1</td>\n",
       "    </tr>\n",
       "    <tr>\n",
       "      <th>1</th>\n",
       "      <td>1</td>\n",
       "      <td>1</td>\n",
       "      <td>1</td>\n",
       "    </tr>\n",
       "    <tr>\n",
       "      <th>2</th>\n",
       "      <td>1</td>\n",
       "      <td>1</td>\n",
       "      <td>1</td>\n",
       "    </tr>\n",
       "    <tr>\n",
       "      <th>3</th>\n",
       "      <td>1</td>\n",
       "      <td>1</td>\n",
       "      <td>1</td>\n",
       "    </tr>\n",
       "    <tr>\n",
       "      <th>4</th>\n",
       "      <td>1</td>\n",
       "      <td>1</td>\n",
       "      <td>1</td>\n",
       "    </tr>\n",
       "  </tbody>\n",
       "</table>\n",
       "</div>"
      ],
      "text/plain": [
       "   arvore_decisao  xgboost  random_forest\n",
       "0               1        1              1\n",
       "1               1        1              1\n",
       "2               1        1              1\n",
       "3               1        1              1\n",
       "4               1        1              1"
      ]
     },
     "execution_count": 37,
     "metadata": {},
     "output_type": "execute_result"
    }
   ],
   "source": [
    "# predicoes dos 3 melhores\n",
    "pred_modelos = pd.DataFrame({\n",
    "    'arvore_decisao':      list(tree_predicao),\n",
    "    'xgboost':             list(predicao_xgb),\n",
    "    'random_forest':       list(predicao_rf)\n",
    "})\n",
    "\n",
    "\n",
    "pred_modelos.head()"
   ]
  },
  {
   "cell_type": "markdown",
   "metadata": {},
   "source": [
    "## 6.2 Criando Comitê"
   ]
  },
  {
   "cell_type": "code",
   "execution_count": 38,
   "metadata": {},
   "outputs": [],
   "source": [
    "arvore    = pred_modelos['arvore_decisao']\n",
    "xgboost   = pred_modelos['xgboost']\n",
    "floresta  = pred_modelos['random_forest']\n",
    "\n",
    "contador_classe1 = 0 # contador de credito\n",
    "contador_classe0 = 0 # contador de não credito\n",
    "\n",
    "resultado_comite = []\n",
    "for tree, xgb, rf in zip(arvore, xgboost, floresta):\n",
    "    \n",
    "    # verificando classificacao da Arvore de Decisao\n",
    "    if tree == 0:\n",
    "        contador_classe0 += 1\n",
    "    else:\n",
    "        contador_classe1 += 1\n",
    "     \n",
    "    # verificando classificacao da Regressão Logistica\n",
    "    if xgb == 0:\n",
    "        contador_classe0 += 1\n",
    "    else:\n",
    "        contador_classe1 += 1\n",
    "    \n",
    "    # verificando classificacao da Random Forest\n",
    "    if rf == 0:\n",
    "        contador_classe0 += 1\n",
    "    else:\n",
    "        contador_classe1 += 1\n",
    "    \n",
    "    \n",
    "    # verificando quem ganhou para salvar\n",
    "    if contador_classe1 > contador_classe0:\n",
    "        resultado_comite.append(1)\n",
    "    else:  \n",
    "        resultado_comite.append(0)\n",
    "       \n",
    "    # zerando contador\n",
    "    contador_classe1 = 0\n",
    "    contador_classe0 = 0\n",
    "\n",
    "# criando coluna com as predições do comite de classifcação gerado\n",
    "pred_modelos['comite'] = resultado_comite"
   ]
  },
  {
   "cell_type": "markdown",
   "metadata": {},
   "source": [
    "## 6.3 Validação do Comitê"
   ]
  },
  {
   "cell_type": "code",
   "execution_count": 39,
   "metadata": {},
   "outputs": [
    {
     "data": {
      "text/html": [
       "<div>\n",
       "<style scoped>\n",
       "    .dataframe tbody tr th:only-of-type {\n",
       "        vertical-align: middle;\n",
       "    }\n",
       "\n",
       "    .dataframe tbody tr th {\n",
       "        vertical-align: top;\n",
       "    }\n",
       "\n",
       "    .dataframe thead th {\n",
       "        text-align: right;\n",
       "    }\n",
       "</style>\n",
       "<table border=\"1\" class=\"dataframe\">\n",
       "  <thead>\n",
       "    <tr style=\"text-align: right;\">\n",
       "      <th></th>\n",
       "      <th>Model_name</th>\n",
       "      <th>Accuracy</th>\n",
       "      <th>Precision</th>\n",
       "      <th>Recall</th>\n",
       "    </tr>\n",
       "  </thead>\n",
       "  <tbody>\n",
       "    <tr>\n",
       "      <th>0</th>\n",
       "      <td>Comitê de Classificadores</td>\n",
       "      <td>0.797178</td>\n",
       "      <td>0.785323</td>\n",
       "      <td>0.998973</td>\n",
       "    </tr>\n",
       "  </tbody>\n",
       "</table>\n",
       "</div>"
      ],
      "text/plain": [
       "                  Model_name  Accuracy  Precision    Recall\n",
       "0  Comitê de Classificadores  0.797178   0.785323  0.998973"
      ]
     },
     "execution_count": 39,
     "metadata": {},
     "output_type": "execute_result"
    },
    {
     "data": {
      "image/png": "[encoded data removed]",
      "text/plain": [
       "<Figure size 1080x360 with 4 Axes>"
      ]
     },
     "metadata": {
      "needs_background": "light"
     },
     "output_type": "display_data"
    }
   ],
   "source": [
    "# comite\n",
    "metrics_comite = compute_metrics(model_name='Comitê de Classificadores', y_validation=y_test, yhat=pred_modelos['comite']) # calcula metricas\n",
    "plot_metric(y_test, pred_modelos['comite'], 'Comitê de Classificadores') # graficos\n",
    "metrics_comite # mostra metricas"
   ]
  },
  {
   "cell_type": "markdown",
   "metadata": {},
   "source": [
    "# 7.0 RESULTADO FINAL"
   ]
  },
  {
   "cell_type": "markdown",
   "metadata": {},
   "source": [
    "Etapa para gerar a lista das pessoas que pagarão com cartão de crédito."
   ]
  },
  {
   "cell_type": "code",
   "execution_count": 41,
   "metadata": {},
   "outputs": [
    {
     "data": {
      "text/html": [
       "<div>\n",
       "<style scoped>\n",
       "    .dataframe tbody tr th:only-of-type {\n",
       "        vertical-align: middle;\n",
       "    }\n",
       "\n",
       "    .dataframe tbody tr th {\n",
       "        vertical-align: top;\n",
       "    }\n",
       "\n",
       "    .dataframe thead th {\n",
       "        text-align: right;\n",
       "    }\n",
       "</style>\n",
       "<table border=\"1\" class=\"dataframe\">\n",
       "  <thead>\n",
       "    <tr style=\"text-align: right;\">\n",
       "      <th></th>\n",
       "      <th>order_id</th>\n",
       "      <th>payment_sequential</th>\n",
       "      <th>payment_installments</th>\n",
       "      <th>payment_value</th>\n",
       "      <th>customer_id</th>\n",
       "      <th>order_status</th>\n",
       "      <th>order_purchase_timestamp</th>\n",
       "      <th>order_approved_at</th>\n",
       "      <th>order_delivered_carrier_date</th>\n",
       "      <th>order_delivered_customer_date</th>\n",
       "      <th>...</th>\n",
       "      <th>product_height_cm</th>\n",
       "      <th>product_width_cm</th>\n",
       "      <th>zip_code_prefix</th>\n",
       "      <th>seller_city</th>\n",
       "      <th>seller_state</th>\n",
       "      <th>geolocation_lat</th>\n",
       "      <th>geolocation_lng</th>\n",
       "      <th>geolocation_city</th>\n",
       "      <th>geolocation_state</th>\n",
       "      <th>forma_de_pagamento?</th>\n",
       "    </tr>\n",
       "  </thead>\n",
       "  <tbody>\n",
       "    <tr>\n",
       "      <th>3567927</th>\n",
       "      <td>1227f9af3b2ddb0b95060aab8e5b3dc7</td>\n",
       "      <td>1</td>\n",
       "      <td>4</td>\n",
       "      <td>47.05</td>\n",
       "      <td>53c9811a9eed9e84d267b8a929840882</td>\n",
       "      <td>delivered</td>\n",
       "      <td>2018-05-10 14:48:29</td>\n",
       "      <td>2018-05-10 15:11:25</td>\n",
       "      <td>2018-05-10 14:00:00</td>\n",
       "      <td>2018-05-18 16:21:53</td>\n",
       "      <td>...</td>\n",
       "      <td>6.0</td>\n",
       "      <td>13.0</td>\n",
       "      <td>13070.0</td>\n",
       "      <td>campinas</td>\n",
       "      <td>SP</td>\n",
       "      <td>-22.884724</td>\n",
       "      <td>-47.076555</td>\n",
       "      <td>campinas</td>\n",
       "      <td>SP</td>\n",
       "      <td>1</td>\n",
       "    </tr>\n",
       "    <tr>\n",
       "      <th>5879427</th>\n",
       "      <td>b196564f2fd79a80ab1b31dd8ba4e4fb</td>\n",
       "      <td>1</td>\n",
       "      <td>8</td>\n",
       "      <td>274.56</td>\n",
       "      <td>960ffb45acd270534e88387352742459</td>\n",
       "      <td>delivered</td>\n",
       "      <td>2018-06-06 21:11:57</td>\n",
       "      <td>2018-06-06 21:32:06</td>\n",
       "      <td>2018-06-08 14:13:00</td>\n",
       "      <td>2018-06-18 21:33:33</td>\n",
       "      <td>...</td>\n",
       "      <td>11.0</td>\n",
       "      <td>11.0</td>\n",
       "      <td>13170.0</td>\n",
       "      <td>sumare</td>\n",
       "      <td>SP</td>\n",
       "      <td>-22.823410</td>\n",
       "      <td>-47.271376</td>\n",
       "      <td>sumare</td>\n",
       "      <td>SP</td>\n",
       "      <td>1</td>\n",
       "    </tr>\n",
       "    <tr>\n",
       "      <th>15087272</th>\n",
       "      <td>33d4257aa190f034f74c6626a12b6e53</td>\n",
       "      <td>1</td>\n",
       "      <td>10</td>\n",
       "      <td>228.71</td>\n",
       "      <td>c564529ffd5238e134307140271dd186</td>\n",
       "      <td>delivered</td>\n",
       "      <td>2017-09-17 23:00:57</td>\n",
       "      <td>2017-09-17 23:10:18</td>\n",
       "      <td>2017-09-18 19:37:33</td>\n",
       "      <td>2017-10-03 20:45:01</td>\n",
       "      <td>...</td>\n",
       "      <td>22.0</td>\n",
       "      <td>19.0</td>\n",
       "      <td>9230.0</td>\n",
       "      <td>santo andre</td>\n",
       "      <td>SP</td>\n",
       "      <td>-23.615874</td>\n",
       "      <td>-46.526663</td>\n",
       "      <td>santo andre</td>\n",
       "      <td>SP</td>\n",
       "      <td>1</td>\n",
       "    </tr>\n",
       "    <tr>\n",
       "      <th>2171984</th>\n",
       "      <td>1f38d4b0b64e26e3aa96c3e8a4afe95e</td>\n",
       "      <td>1</td>\n",
       "      <td>3</td>\n",
       "      <td>163.02</td>\n",
       "      <td>cf25c789086e690ac0787d83feaec0fc</td>\n",
       "      <td>delivered</td>\n",
       "      <td>2018-02-13 14:33:01</td>\n",
       "      <td>2018-02-13 15:08:13</td>\n",
       "      <td>2018-02-15 05:41:44</td>\n",
       "      <td>2018-02-21 16:37:04</td>\n",
       "      <td>...</td>\n",
       "      <td>13.0</td>\n",
       "      <td>14.0</td>\n",
       "      <td>87047.0</td>\n",
       "      <td>maringa</td>\n",
       "      <td>PR</td>\n",
       "      <td>-23.420038</td>\n",
       "      <td>-51.898162</td>\n",
       "      <td>maringa</td>\n",
       "      <td>PR</td>\n",
       "      <td>1</td>\n",
       "    </tr>\n",
       "    <tr>\n",
       "      <th>6452744</th>\n",
       "      <td>62e62c8885c148b639ca92db8629c1ac</td>\n",
       "      <td>1</td>\n",
       "      <td>7</td>\n",
       "      <td>96.80</td>\n",
       "      <td>58aee0d0dfbc927800d152c34dc5e530</td>\n",
       "      <td>delivered</td>\n",
       "      <td>2018-02-28 10:14:05</td>\n",
       "      <td>2018-02-28 10:29:47</td>\n",
       "      <td>2018-03-02 18:59:04</td>\n",
       "      <td>2018-03-26 14:52:27</td>\n",
       "      <td>...</td>\n",
       "      <td>20.0</td>\n",
       "      <td>30.0</td>\n",
       "      <td>13232.0</td>\n",
       "      <td>campo limpo paulista</td>\n",
       "      <td>SP</td>\n",
       "      <td>-23.217996</td>\n",
       "      <td>-46.768946</td>\n",
       "      <td>campo limpo paulista</td>\n",
       "      <td>SP</td>\n",
       "      <td>1</td>\n",
       "    </tr>\n",
       "    <tr>\n",
       "      <th>4880276</th>\n",
       "      <td>5cc475c7c03290048eb2e742cd64cb5e</td>\n",
       "      <td>1</td>\n",
       "      <td>1</td>\n",
       "      <td>82.69</td>\n",
       "      <td>75e8f990b9e289013b1d092614b52487</td>\n",
       "      <td>delivered</td>\n",
       "      <td>2016-10-04 21:54:52</td>\n",
       "      <td>2016-10-05 03:10:31</td>\n",
       "      <td>2016-12-06 17:24:00</td>\n",
       "      <td>2016-12-12 20:31:54</td>\n",
       "      <td>...</td>\n",
       "      <td>13.0</td>\n",
       "      <td>16.0</td>\n",
       "      <td>14092.0</td>\n",
       "      <td>ribeirao preto</td>\n",
       "      <td>SP</td>\n",
       "      <td>-21.177173</td>\n",
       "      <td>-47.770507</td>\n",
       "      <td>ribeirao preto</td>\n",
       "      <td>SP</td>\n",
       "      <td>1</td>\n",
       "    </tr>\n",
       "    <tr>\n",
       "      <th>13291336</th>\n",
       "      <td>07bd0c7e13ac7c3a408dd3bc8f18fc78</td>\n",
       "      <td>1</td>\n",
       "      <td>1</td>\n",
       "      <td>592.18</td>\n",
       "      <td>6888824f6a0a78173ad41847d2dac2f0</td>\n",
       "      <td>delivered</td>\n",
       "      <td>2018-01-30 15:18:07</td>\n",
       "      <td>2018-02-06 17:15:32</td>\n",
       "      <td>2018-02-09 22:05:05</td>\n",
       "      <td>2018-02-14 23:06:46</td>\n",
       "      <td>...</td>\n",
       "      <td>20.0</td>\n",
       "      <td>42.0</td>\n",
       "      <td>35680.0</td>\n",
       "      <td>itauna</td>\n",
       "      <td>MG</td>\n",
       "      <td>-20.088403</td>\n",
       "      <td>-44.598949</td>\n",
       "      <td>itaúna</td>\n",
       "      <td>MG</td>\n",
       "      <td>0</td>\n",
       "    </tr>\n",
       "    <tr>\n",
       "      <th>10446337</th>\n",
       "      <td>dc4e9e7d17fec4c4ded41724619a1b10</td>\n",
       "      <td>1</td>\n",
       "      <td>1</td>\n",
       "      <td>45.61</td>\n",
       "      <td>a67749ad2ad8984f58af753299d89756</td>\n",
       "      <td>delivered</td>\n",
       "      <td>2018-02-05 15:22:51</td>\n",
       "      <td>2018-02-05 15:35:58</td>\n",
       "      <td>2018-02-06 17:16:37</td>\n",
       "      <td>2018-02-14 20:08:11</td>\n",
       "      <td>...</td>\n",
       "      <td>15.0</td>\n",
       "      <td>15.0</td>\n",
       "      <td>89460.0</td>\n",
       "      <td>canoinhas</td>\n",
       "      <td>SC</td>\n",
       "      <td>-26.153425</td>\n",
       "      <td>-50.392285</td>\n",
       "      <td>canoinhas</td>\n",
       "      <td>SC</td>\n",
       "      <td>1</td>\n",
       "    </tr>\n",
       "    <tr>\n",
       "      <th>2709519</th>\n",
       "      <td>b7624f6b70f7b79ea2b092b6f1be678c</td>\n",
       "      <td>1</td>\n",
       "      <td>4</td>\n",
       "      <td>112.99</td>\n",
       "      <td>a6b19a21cdce23baec63e5e6a0ff8288</td>\n",
       "      <td>delivered</td>\n",
       "      <td>2017-02-03 22:21:47</td>\n",
       "      <td>2017-02-03 22:30:19</td>\n",
       "      <td>2017-02-07 07:38:58</td>\n",
       "      <td>2017-06-14 14:42:22</td>\n",
       "      <td>...</td>\n",
       "      <td>48.0</td>\n",
       "      <td>38.0</td>\n",
       "      <td>37795.0</td>\n",
       "      <td>andradas</td>\n",
       "      <td>MG</td>\n",
       "      <td>-22.064461</td>\n",
       "      <td>-46.563775</td>\n",
       "      <td>andradas</td>\n",
       "      <td>MG</td>\n",
       "      <td>1</td>\n",
       "    </tr>\n",
       "    <tr>\n",
       "      <th>8285408</th>\n",
       "      <td>5d8e9c0a711b826b72298f9abeb269cd</td>\n",
       "      <td>1</td>\n",
       "      <td>1</td>\n",
       "      <td>35.86</td>\n",
       "      <td>b21ff624eaefac438d7923cd142bd9c5</td>\n",
       "      <td>delivered</td>\n",
       "      <td>2017-02-06 12:19:55</td>\n",
       "      <td>2017-02-08 03:15:13</td>\n",
       "      <td>2017-02-08 11:41:17</td>\n",
       "      <td>2017-02-13 15:12:46</td>\n",
       "      <td>...</td>\n",
       "      <td>2.0</td>\n",
       "      <td>11.0</td>\n",
       "      <td>15502.0</td>\n",
       "      <td>votuporanga</td>\n",
       "      <td>SP</td>\n",
       "      <td>-20.411639</td>\n",
       "      <td>-49.986775</td>\n",
       "      <td>votuporanga</td>\n",
       "      <td>SP</td>\n",
       "      <td>1</td>\n",
       "    </tr>\n",
       "    <tr>\n",
       "      <th>3912730</th>\n",
       "      <td>489cbb0cbc1600b7b5a6d703004f606a</td>\n",
       "      <td>1</td>\n",
       "      <td>10</td>\n",
       "      <td>190.95</td>\n",
       "      <td>b6c9508ac754543c016be35d0a3b3857</td>\n",
       "      <td>delivered</td>\n",
       "      <td>2017-07-18 16:05:53</td>\n",
       "      <td>2017-07-18 16:15:29</td>\n",
       "      <td>2017-07-26 15:37:47</td>\n",
       "      <td>2017-07-31 19:07:57</td>\n",
       "      <td>...</td>\n",
       "      <td>51.0</td>\n",
       "      <td>18.0</td>\n",
       "      <td>8577.0</td>\n",
       "      <td>itaquaquecetuba</td>\n",
       "      <td>SP</td>\n",
       "      <td>-23.482673</td>\n",
       "      <td>-46.359997</td>\n",
       "      <td>itaquaquecetuba</td>\n",
       "      <td>SP</td>\n",
       "      <td>1</td>\n",
       "    </tr>\n",
       "    <tr>\n",
       "      <th>14362055</th>\n",
       "      <td>e74d9198ddaddfc8e8090f5028697eaa</td>\n",
       "      <td>1</td>\n",
       "      <td>2</td>\n",
       "      <td>70.44</td>\n",
       "      <td>0373186c0d9c262cb4e09c6271e128b5</td>\n",
       "      <td>delivered</td>\n",
       "      <td>2018-04-29 20:42:30</td>\n",
       "      <td>2018-04-29 20:54:42</td>\n",
       "      <td>2018-05-07 14:51:00</td>\n",
       "      <td>2018-05-10 19:16:46</td>\n",
       "      <td>...</td>\n",
       "      <td>20.0</td>\n",
       "      <td>20.0</td>\n",
       "      <td>13660.0</td>\n",
       "      <td>porto ferreira</td>\n",
       "      <td>SP</td>\n",
       "      <td>-21.857072</td>\n",
       "      <td>-47.490780</td>\n",
       "      <td>porto ferreira</td>\n",
       "      <td>SP</td>\n",
       "      <td>1</td>\n",
       "    </tr>\n",
       "    <tr>\n",
       "      <th>1907747</th>\n",
       "      <td>c02d8b5948dda3c7be497b0349c7256c</td>\n",
       "      <td>1</td>\n",
       "      <td>1</td>\n",
       "      <td>52.73</td>\n",
       "      <td>98f28fffa1c9e07ba5a33cb690eb33c4</td>\n",
       "      <td>delivered</td>\n",
       "      <td>2018-03-08 19:38:25</td>\n",
       "      <td>2018-03-08 19:50:34</td>\n",
       "      <td>2018-03-09 18:58:35</td>\n",
       "      <td>2018-04-06 17:18:39</td>\n",
       "      <td>...</td>\n",
       "      <td>8.0</td>\n",
       "      <td>19.0</td>\n",
       "      <td>8710.0</td>\n",
       "      <td>mogi das cruzes</td>\n",
       "      <td>SP</td>\n",
       "      <td>-23.524706</td>\n",
       "      <td>-46.199026</td>\n",
       "      <td>mogi das cruzes</td>\n",
       "      <td>SP</td>\n",
       "      <td>1</td>\n",
       "    </tr>\n",
       "    <tr>\n",
       "      <th>15951012</th>\n",
       "      <td>698c42d4d45a628919b9b38241aebf4a</td>\n",
       "      <td>1</td>\n",
       "      <td>5</td>\n",
       "      <td>418.92</td>\n",
       "      <td>415318e16cc2f959d7c15cf63f127956</td>\n",
       "      <td>delivered</td>\n",
       "      <td>2017-09-20 13:56:43</td>\n",
       "      <td>2017-09-21 14:05:16</td>\n",
       "      <td>2017-09-22 17:05:09</td>\n",
       "      <td>2017-10-11 18:25:52</td>\n",
       "      <td>...</td>\n",
       "      <td>26.0</td>\n",
       "      <td>18.0</td>\n",
       "      <td>13324.0</td>\n",
       "      <td>salto</td>\n",
       "      <td>SP</td>\n",
       "      <td>-23.206566</td>\n",
       "      <td>-47.319133</td>\n",
       "      <td>salto</td>\n",
       "      <td>SP</td>\n",
       "      <td>1</td>\n",
       "    </tr>\n",
       "    <tr>\n",
       "      <th>168116</th>\n",
       "      <td>b7a098563d93a0a1f918772c24ca3831</td>\n",
       "      <td>1</td>\n",
       "      <td>3</td>\n",
       "      <td>172.29</td>\n",
       "      <td>7974eb74e94d3f3e1031f74d1b97ea5e</td>\n",
       "      <td>delivered</td>\n",
       "      <td>2018-02-17 16:41:06</td>\n",
       "      <td>2018-02-17 16:55:55</td>\n",
       "      <td>2018-02-21 18:32:40</td>\n",
       "      <td>2018-02-27 18:22:43</td>\n",
       "      <td>...</td>\n",
       "      <td>21.0</td>\n",
       "      <td>21.0</td>\n",
       "      <td>11701.0</td>\n",
       "      <td>praia grande</td>\n",
       "      <td>SP</td>\n",
       "      <td>-24.010181</td>\n",
       "      <td>-46.415658</td>\n",
       "      <td>praia grande</td>\n",
       "      <td>SP</td>\n",
       "      <td>1</td>\n",
       "    </tr>\n",
       "    <tr>\n",
       "      <th>657112</th>\n",
       "      <td>7289e899d9083d1c93469d36a42d1dea</td>\n",
       "      <td>1</td>\n",
       "      <td>1</td>\n",
       "      <td>141.45</td>\n",
       "      <td>0f5e161db26d065ff8926895975c0ca6</td>\n",
       "      <td>delivered</td>\n",
       "      <td>2018-07-04 15:15:27</td>\n",
       "      <td>2018-07-05 16:07:07</td>\n",
       "      <td>2018-07-06 11:29:00</td>\n",
       "      <td>2018-07-10 14:51:31</td>\n",
       "      <td>...</td>\n",
       "      <td>39.0</td>\n",
       "      <td>38.0</td>\n",
       "      <td>7023.0</td>\n",
       "      <td>guarulhos</td>\n",
       "      <td>SP</td>\n",
       "      <td>-23.478156</td>\n",
       "      <td>-46.541651</td>\n",
       "      <td>guarulhos</td>\n",
       "      <td>SP</td>\n",
       "      <td>1</td>\n",
       "    </tr>\n",
       "    <tr>\n",
       "      <th>2893812</th>\n",
       "      <td>9ab5644159baae7027369bff9c6890b1</td>\n",
       "      <td>1</td>\n",
       "      <td>2</td>\n",
       "      <td>93.34</td>\n",
       "      <td>a1be2e6e7eded43730e9b8abd863e039</td>\n",
       "      <td>delivered</td>\n",
       "      <td>2018-01-27 20:56:12</td>\n",
       "      <td>2018-01-27 21:17:09</td>\n",
       "      <td>2018-01-30 20:58:56</td>\n",
       "      <td>2018-02-05 20:11:56</td>\n",
       "      <td>...</td>\n",
       "      <td>5.0</td>\n",
       "      <td>30.0</td>\n",
       "      <td>14940.0</td>\n",
       "      <td>ibitinga</td>\n",
       "      <td>SP</td>\n",
       "      <td>-21.759347</td>\n",
       "      <td>-48.848928</td>\n",
       "      <td>ibitinga</td>\n",
       "      <td>SP</td>\n",
       "      <td>1</td>\n",
       "    </tr>\n",
       "    <tr>\n",
       "      <th>6468851</th>\n",
       "      <td>6ef0f9767ffbe09ebed8593fed89b73d</td>\n",
       "      <td>1</td>\n",
       "      <td>6</td>\n",
       "      <td>139.01</td>\n",
       "      <td>ef40e80fda552edf162925de233acbc4</td>\n",
       "      <td>delivered</td>\n",
       "      <td>2018-05-09 01:38:43</td>\n",
       "      <td>2018-05-10 01:36:25</td>\n",
       "      <td>2018-05-12 08:02:00</td>\n",
       "      <td>2018-05-24 14:59:37</td>\n",
       "      <td>...</td>\n",
       "      <td>14.0</td>\n",
       "      <td>16.0</td>\n",
       "      <td>14050.0</td>\n",
       "      <td>ribeirao preto</td>\n",
       "      <td>SP</td>\n",
       "      <td>-21.171723</td>\n",
       "      <td>-47.826312</td>\n",
       "      <td>ribeirao preto</td>\n",
       "      <td>SP</td>\n",
       "      <td>1</td>\n",
       "    </tr>\n",
       "    <tr>\n",
       "      <th>16358898</th>\n",
       "      <td>d3b793b04fe8ed20805d6c19cf00c0d3</td>\n",
       "      <td>1</td>\n",
       "      <td>4</td>\n",
       "      <td>246.97</td>\n",
       "      <td>45a8c0f0fe5f7a1938dcbc8614fd4eb5</td>\n",
       "      <td>delivered</td>\n",
       "      <td>2017-07-29 12:35:14</td>\n",
       "      <td>2017-07-29 12:45:10</td>\n",
       "      <td>2017-08-10 19:32:32</td>\n",
       "      <td>2017-08-15 18:47:44</td>\n",
       "      <td>...</td>\n",
       "      <td>62.0</td>\n",
       "      <td>24.0</td>\n",
       "      <td>8577.0</td>\n",
       "      <td>itaquaquecetuba</td>\n",
       "      <td>SP</td>\n",
       "      <td>-23.484079</td>\n",
       "      <td>-46.373146</td>\n",
       "      <td>itaquaquecetuba</td>\n",
       "      <td>SP</td>\n",
       "      <td>1</td>\n",
       "    </tr>\n",
       "    <tr>\n",
       "      <th>7265858</th>\n",
       "      <td>4a7187a003cd08090bc8effb19765333</td>\n",
       "      <td>1</td>\n",
       "      <td>7</td>\n",
       "      <td>329.10</td>\n",
       "      <td>7d0e8b3cece66d111fc2d6921b068abd</td>\n",
       "      <td>delivered</td>\n",
       "      <td>2018-04-15 13:07:36</td>\n",
       "      <td>2018-04-15 13:30:29</td>\n",
       "      <td>2018-04-16 22:51:50</td>\n",
       "      <td>2018-04-20 15:36:36</td>\n",
       "      <td>...</td>\n",
       "      <td>11.0</td>\n",
       "      <td>15.0</td>\n",
       "      <td>14403.0</td>\n",
       "      <td>franca</td>\n",
       "      <td>SP</td>\n",
       "      <td>-20.563800</td>\n",
       "      <td>-47.375956</td>\n",
       "      <td>franca</td>\n",
       "      <td>SP</td>\n",
       "      <td>1</td>\n",
       "    </tr>\n",
       "  </tbody>\n",
       "</table>\n",
       "<p>20 rows × 37 columns</p>\n",
       "</div>"
      ],
      "text/plain": [
       "                                  order_id  payment_sequential  \\\n",
       "3567927   1227f9af3b2ddb0b95060aab8e5b3dc7                   1   \n",
       "5879427   b196564f2fd79a80ab1b31dd8ba4e4fb                   1   \n",
       "15087272  33d4257aa190f034f74c6626a12b6e53                   1   \n",
       "2171984   1f38d4b0b64e26e3aa96c3e8a4afe95e                   1   \n",
       "6452744   62e62c8885c148b639ca92db8629c1ac                   1   \n",
       "4880276   5cc475c7c03290048eb2e742cd64cb5e                   1   \n",
       "13291336  07bd0c7e13ac7c3a408dd3bc8f18fc78                   1   \n",
       "10446337  dc4e9e7d17fec4c4ded41724619a1b10                   1   \n",
       "2709519   b7624f6b70f7b79ea2b092b6f1be678c                   1   \n",
       "8285408   5d8e9c0a711b826b72298f9abeb269cd                   1   \n",
       "3912730   489cbb0cbc1600b7b5a6d703004f606a                   1   \n",
       "14362055  e74d9198ddaddfc8e8090f5028697eaa                   1   \n",
       "1907747   c02d8b5948dda3c7be497b0349c7256c                   1   \n",
       "15951012  698c42d4d45a628919b9b38241aebf4a                   1   \n",
       "168116    b7a098563d93a0a1f918772c24ca3831                   1   \n",
       "657112    7289e899d9083d1c93469d36a42d1dea                   1   \n",
       "2893812   9ab5644159baae7027369bff9c6890b1                   1   \n",
       "6468851   6ef0f9767ffbe09ebed8593fed89b73d                   1   \n",
       "16358898  d3b793b04fe8ed20805d6c19cf00c0d3                   1   \n",
       "7265858   4a7187a003cd08090bc8effb19765333                   1   \n",
       "\n",
       "          payment_installments  payment_value  \\\n",
       "3567927                      4          47.05   \n",
       "5879427                      8         274.56   \n",
       "15087272                    10         228.71   \n",
       "2171984                      3         163.02   \n",
       "6452744                      7          96.80   \n",
       "4880276                      1          82.69   \n",
       "13291336                     1         592.18   \n",
       "10446337                     1          45.61   \n",
       "2709519                      4         112.99   \n",
       "8285408                      1          35.86   \n",
       "3912730                     10         190.95   \n",
       "14362055                     2          70.44   \n",
       "1907747                      1          52.73   \n",
       "15951012                     5         418.92   \n",
       "168116                       3         172.29   \n",
       "657112                       1         141.45   \n",
       "2893812                      2          93.34   \n",
       "6468851                      6         139.01   \n",
       "16358898                     4         246.97   \n",
       "7265858                      7         329.10   \n",
       "\n",
       "                               customer_id order_status  \\\n",
       "3567927   53c9811a9eed9e84d267b8a929840882    delivered   \n",
       "5879427   960ffb45acd270534e88387352742459    delivered   \n",
       "15087272  c564529ffd5238e134307140271dd186    delivered   \n",
       "2171984   cf25c789086e690ac0787d83feaec0fc    delivered   \n",
       "6452744   58aee0d0dfbc927800d152c34dc5e530    delivered   \n",
       "4880276   75e8f990b9e289013b1d092614b52487    delivered   \n",
       "13291336  6888824f6a0a78173ad41847d2dac2f0    delivered   \n",
       "10446337  a67749ad2ad8984f58af753299d89756    delivered   \n",
       "2709519   a6b19a21cdce23baec63e5e6a0ff8288    delivered   \n",
       "8285408   b21ff624eaefac438d7923cd142bd9c5    delivered   \n",
       "3912730   b6c9508ac754543c016be35d0a3b3857    delivered   \n",
       "14362055  0373186c0d9c262cb4e09c6271e128b5    delivered   \n",
       "1907747   98f28fffa1c9e07ba5a33cb690eb33c4    delivered   \n",
       "15951012  415318e16cc2f959d7c15cf63f127956    delivered   \n",
       "168116    7974eb74e94d3f3e1031f74d1b97ea5e    delivered   \n",
       "657112    0f5e161db26d065ff8926895975c0ca6    delivered   \n",
       "2893812   a1be2e6e7eded43730e9b8abd863e039    delivered   \n",
       "6468851   ef40e80fda552edf162925de233acbc4    delivered   \n",
       "16358898  45a8c0f0fe5f7a1938dcbc8614fd4eb5    delivered   \n",
       "7265858   7d0e8b3cece66d111fc2d6921b068abd    delivered   \n",
       "\n",
       "         order_purchase_timestamp    order_approved_at  \\\n",
       "3567927       2018-05-10 14:48:29  2018-05-10 15:11:25   \n",
       "5879427       2018-06-06 21:11:57  2018-06-06 21:32:06   \n",
       "15087272      2017-09-17 23:00:57  2017-09-17 23:10:18   \n",
       "2171984       2018-02-13 14:33:01  2018-02-13 15:08:13   \n",
       "6452744       2018-02-28 10:14:05  2018-02-28 10:29:47   \n",
       "4880276       2016-10-04 21:54:52  2016-10-05 03:10:31   \n",
       "13291336      2018-01-30 15:18:07  2018-02-06 17:15:32   \n",
       "10446337      2018-02-05 15:22:51  2018-02-05 15:35:58   \n",
       "2709519       2017-02-03 22:21:47  2017-02-03 22:30:19   \n",
       "8285408       2017-02-06 12:19:55  2017-02-08 03:15:13   \n",
       "3912730       2017-07-18 16:05:53  2017-07-18 16:15:29   \n",
       "14362055      2018-04-29 20:42:30  2018-04-29 20:54:42   \n",
       "1907747       2018-03-08 19:38:25  2018-03-08 19:50:34   \n",
       "15951012      2017-09-20 13:56:43  2017-09-21 14:05:16   \n",
       "168116        2018-02-17 16:41:06  2018-02-17 16:55:55   \n",
       "657112        2018-07-04 15:15:27  2018-07-05 16:07:07   \n",
       "2893812       2018-01-27 20:56:12  2018-01-27 21:17:09   \n",
       "6468851       2018-05-09 01:38:43  2018-05-10 01:36:25   \n",
       "16358898      2017-07-29 12:35:14  2017-07-29 12:45:10   \n",
       "7265858       2018-04-15 13:07:36  2018-04-15 13:30:29   \n",
       "\n",
       "         order_delivered_carrier_date order_delivered_customer_date  ...  \\\n",
       "3567927           2018-05-10 14:00:00           2018-05-18 16:21:53  ...   \n",
       "5879427           2018-06-08 14:13:00           2018-06-18 21:33:33  ...   \n",
       "15087272          2017-09-18 19:37:33           2017-10-03 20:45:01  ...   \n",
       "2171984           2018-02-15 05:41:44           2018-02-21 16:37:04  ...   \n",
       "6452744           2018-03-02 18:59:04           2018-03-26 14:52:27  ...   \n",
       "4880276           2016-12-06 17:24:00           2016-12-12 20:31:54  ...   \n",
       "13291336          2018-02-09 22:05:05           2018-02-14 23:06:46  ...   \n",
       "10446337          2018-02-06 17:16:37           2018-02-14 20:08:11  ...   \n",
       "2709519           2017-02-07 07:38:58           2017-06-14 14:42:22  ...   \n",
       "8285408           2017-02-08 11:41:17           2017-02-13 15:12:46  ...   \n",
       "3912730           2017-07-26 15:37:47           2017-07-31 19:07:57  ...   \n",
       "14362055          2018-05-07 14:51:00           2018-05-10 19:16:46  ...   \n",
       "1907747           2018-03-09 18:58:35           2018-04-06 17:18:39  ...   \n",
       "15951012          2017-09-22 17:05:09           2017-10-11 18:25:52  ...   \n",
       "168116            2018-02-21 18:32:40           2018-02-27 18:22:43  ...   \n",
       "657112            2018-07-06 11:29:00           2018-07-10 14:51:31  ...   \n",
       "2893812           2018-01-30 20:58:56           2018-02-05 20:11:56  ...   \n",
       "6468851           2018-05-12 08:02:00           2018-05-24 14:59:37  ...   \n",
       "16358898          2017-08-10 19:32:32           2017-08-15 18:47:44  ...   \n",
       "7265858           2018-04-16 22:51:50           2018-04-20 15:36:36  ...   \n",
       "\n",
       "         product_height_cm product_width_cm  zip_code_prefix  \\\n",
       "3567927                6.0             13.0          13070.0   \n",
       "5879427               11.0             11.0          13170.0   \n",
       "15087272              22.0             19.0           9230.0   \n",
       "2171984               13.0             14.0          87047.0   \n",
       "6452744               20.0             30.0          13232.0   \n",
       "4880276               13.0             16.0          14092.0   \n",
       "13291336              20.0             42.0          35680.0   \n",
       "10446337              15.0             15.0          89460.0   \n",
       "2709519               48.0             38.0          37795.0   \n",
       "8285408                2.0             11.0          15502.0   \n",
       "3912730               51.0             18.0           8577.0   \n",
       "14362055              20.0             20.0          13660.0   \n",
       "1907747                8.0             19.0           8710.0   \n",
       "15951012              26.0             18.0          13324.0   \n",
       "168116                21.0             21.0          11701.0   \n",
       "657112                39.0             38.0           7023.0   \n",
       "2893812                5.0             30.0          14940.0   \n",
       "6468851               14.0             16.0          14050.0   \n",
       "16358898              62.0             24.0           8577.0   \n",
       "7265858               11.0             15.0          14403.0   \n",
       "\n",
       "                   seller_city seller_state  geolocation_lat geolocation_lng  \\\n",
       "3567927               campinas           SP       -22.884724      -47.076555   \n",
       "5879427                 sumare           SP       -22.823410      -47.271376   \n",
       "15087272           santo andre           SP       -23.615874      -46.526663   \n",
       "2171984                maringa           PR       -23.420038      -51.898162   \n",
       "6452744   campo limpo paulista           SP       -23.217996      -46.768946   \n",
       "4880276         ribeirao preto           SP       -21.177173      -47.770507   \n",
       "13291336                itauna           MG       -20.088403      -44.598949   \n",
       "10446337             canoinhas           SC       -26.153425      -50.392285   \n",
       "2709519               andradas           MG       -22.064461      -46.563775   \n",
       "8285408            votuporanga           SP       -20.411639      -49.986775   \n",
       "3912730        itaquaquecetuba           SP       -23.482673      -46.359997   \n",
       "14362055        porto ferreira           SP       -21.857072      -47.490780   \n",
       "1907747        mogi das cruzes           SP       -23.524706      -46.199026   \n",
       "15951012                 salto           SP       -23.206566      -47.319133   \n",
       "168116            praia grande           SP       -24.010181      -46.415658   \n",
       "657112               guarulhos           SP       -23.478156      -46.541651   \n",
       "2893812               ibitinga           SP       -21.759347      -48.848928   \n",
       "6468851         ribeirao preto           SP       -21.171723      -47.826312   \n",
       "16358898       itaquaquecetuba           SP       -23.484079      -46.373146   \n",
       "7265858                 franca           SP       -20.563800      -47.375956   \n",
       "\n",
       "              geolocation_city geolocation_state  forma_de_pagamento?  \n",
       "3567927               campinas                SP                    1  \n",
       "5879427                 sumare                SP                    1  \n",
       "15087272           santo andre                SP                    1  \n",
       "2171984                maringa                PR                    1  \n",
       "6452744   campo limpo paulista                SP                    1  \n",
       "4880276         ribeirao preto                SP                    1  \n",
       "13291336                itaúna                MG                    0  \n",
       "10446337             canoinhas                SC                    1  \n",
       "2709519               andradas                MG                    1  \n",
       "8285408            votuporanga                SP                    1  \n",
       "3912730        itaquaquecetuba                SP                    1  \n",
       "14362055        porto ferreira                SP                    1  \n",
       "1907747        mogi das cruzes                SP                    1  \n",
       "15951012                 salto                SP                    1  \n",
       "168116            praia grande                SP                    1  \n",
       "657112               guarulhos                SP                    1  \n",
       "2893812               ibitinga                SP                    1  \n",
       "6468851         ribeirao preto                SP                    1  \n",
       "16358898       itaquaquecetuba                SP                    1  \n",
       "7265858                 franca                SP                    1  \n",
       "\n",
       "[20 rows x 37 columns]"
      ]
     },
     "execution_count": 41,
     "metadata": {},
     "output_type": "execute_result"
    }
   ],
   "source": [
    "x_test2['forma_de_pagamento?'] = list(pred_modelos['comite'])\n",
    "\n",
    "x_test2.sample(20)"
   ]
  }
 ],
 "metadata": {
  "kernelspec": {
   "display_name": "Python 3 (ipykernel)",
   "language": "python",
   "name": "python3"
  },
  "language_info": {
   "codemirror_mode": {
    "name": "ipython",
    "version": 3
   },
   "file_extension": ".py",
   "mimetype": "text/x-python",
   "name": "python",
   "nbconvert_exporter": "python",
   "pygments_lexer": "ipython3",
   "version": "3.10.5"
  }
 },
 "nbformat": 4,
 "nbformat_minor": 4
}
